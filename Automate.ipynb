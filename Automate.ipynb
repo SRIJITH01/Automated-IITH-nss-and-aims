{
 "cells": [
  {
   "cell_type": "code",
   "execution_count": 1,
   "id": "polyphonic-microwave",
   "metadata": {
    "scrolled": true
   },
   "outputs": [
    {
     "name": "stdout",
     "output_type": "stream",
     "text": [
      "Roll no:  EE19BTECH11000\n",
      "!!! Invalid Input!!! Try again\n",
      "Roll no:  EE19BTECH11001\n",
      "NSS - IIT Hyderabad\n",
      "Your Contribution to NSS\n",
      "69\n",
      "Roll no:  EE19BTECH11002\n",
      "NSS - IIT Hyderabad\n",
      "Your Contribution to NSS\n",
      "42\n",
      "Roll no:  EE19BTECH11003\n",
      "NSS - IIT Hyderabad\n",
      "Your Contribution to NSS\n",
      "\n",
      "9\n",
      "Roll no:  EE19BTECH11004\n",
      "NSS - IIT Hyderabad\n",
      "Your Contribution to NSS\n",
      "18\n"
     ]
    }
   ],
   "source": [
    "from selenium import webdriver \n",
    "from selenium.webdriver.support.ui import WebDriverWait \n",
    "from selenium.webdriver.support import expected_conditions as EC \n",
    "from selenium.webdriver.common.keys import Keys \n",
    "from selenium.webdriver.common.by import By \n",
    "from selenium.webdriver.common.desired_capabilities import DesiredCapabilities\n",
    "from selenium.webdriver.support.select import Select\n",
    "import time \n",
    "import sys\n",
    "\n",
    "# Replace below path with the absolute path of the \\\n",
    "#chromedriver in your computer\n",
    "for i in range(5):\n",
    "    capa = DesiredCapabilities.CHROME\n",
    "    capa[\"pageLoadStrategy\"] = \"eager\"\n",
    "    driver = webdriver.Chrome('/home/srijithreddy/Desktop//srijith reddy/chromedriver')\n",
    "    driver.get(\"https://nss.iith.ac.in/hours_portal/\")\n",
    "    driver.execute_script(\"window.stop();\")\n",
    "    options = WebDriverWait(driver,5).until(EC.presence_of_all_elements_located((By.CSS_SELECTOR, '[name=\"Year\"] option')))\n",
    "    driver.execute_script(\"window.stop();\")\n",
    "    importer = 9\n",
    "    mySelect = Select(driver.find_element_by_css_selector('[name=\"Year\"]'))\n",
    "    mySelect.select_by_index(importer)\n",
    "    selected = mySelect.first_selected_option\n",
    "    inputElement = driver.find_element_by_id(\"name\")\n",
    "    if i < 10:\n",
    "        inputElement.send_keys('EE19BTECH1100'+str(i))\t\n",
    "        print('Roll no: ','EE19BTECH1100'+str(i) )\n",
    "    else:\n",
    "        inputElement.send_keys('EE19BTECH110'+str(i))\t\n",
    "        print('Roll no: ','EE19BTECH110'+str(i) )\n",
    "    button = driver.find_element_by_class_name(\"button\")\n",
    "# clicking on the button\n",
    "    button.click()\n",
    "    a = driver.find_elements_by_xpath('//*[@id=\"wrapper\"]/div/center[1]')\n",
    "    print(a[0].text)\n",
    "    if a[0].text == '!!! Invalid Input!!! Try again':\n",
    "        driver.close()\n",
    "    else:\n",
    "        m = driver.find_elements_by_xpath('//*[@id=\"wrapper\"]/div/table[2]')\n",
    "        s=m[0].text\n",
    "        hrs=s[len(s)-2:len(s)]\n",
    "        print(s[len(s)-2:len(s)]) \n",
    "        driver.close()\n"
   ]
  },
  {
   "cell_type": "code",
   "execution_count": 6,
   "id": "continent-partner",
   "metadata": {},
   "outputs": [
    {
     "name": "stdout",
     "output_type": "stream",
     "text": [
      "Enter your Roll no: EE19BTECH11041\n",
      "Your total Hours:  60\n"
     ]
    }
   ],
   "source": [
    "# Replace below path with the absolute path of the \\\n",
    "#chromedriver in your computer\n",
    "intext = input(\"Enter your Roll no: \")\n",
    "capa = DesiredCapabilities.CHROME\n",
    "capa[\"pageLoadStrategy\"] = \"eager\"\n",
    "driver = webdriver.Chrome('/home/srijithreddy/Desktop//srijith reddy/chromedriver')\n",
    "driver.get(\"https://nss.iith.ac.in/hours_portal/\")\n",
    "options = WebDriverWait(driver,10).until(EC.presence_of_all_elements_located((By.CSS_SELECTOR, '[name=\"Year\"] option')))\n",
    "driver.execute_script(\"window.stop();\")\n",
    "importer = 9\n",
    "mySelect = Select(driver.find_element_by_css_selector('[name=\"Year\"]'))\n",
    "mySelect.select_by_index(importer)\n",
    "selected = mySelect.first_selected_option\n",
    "inputElement = driver.find_element_by_id(\"name\")\n",
    "inputElement.send_keys(intext)\t\t\t\n",
    "button = driver.find_element_by_class_name(\"button\")\n",
    "# clicking on the button\n",
    "button.click()\n",
    "WebDriverWait(driver,5)\n",
    "a = driver.find_elements_by_xpath('//*[@id=\"wrapper\"]/div/center[1]')\n",
    "if a[0].text == '!!! Invalid Input!!! Try again':\n",
    "    print('Your not in NSS')\n",
    "    driver.close()\n",
    "else:\n",
    "    m = driver.find_elements_by_xpath('//*[@id=\"wrapper\"]/div/table[2]')\n",
    "    s=m[0].text\n",
    "    hrs=s[len(s)-2:len(s)]\n",
    "    print(\"Your total Hours: \",s[len(s)-2:len(s)]) \n",
    "    driver.close()"
   ]
  },
  {
   "cell_type": "code",
   "execution_count": 3,
   "id": "brazilian-colors",
   "metadata": {},
   "outputs": [
    {
     "name": "stderr",
     "output_type": "stream",
     "text": [
      "CUDA not available - defaulting to CPU. Note: This module is much faster with a GPU.\n"
     ]
    },
    {
     "name": "stdout",
     "output_type": "stream",
     "text": [
      "Boreg\n"
     ]
    }
   ],
   "source": [
    "from selenium import webdriver \n",
    "from selenium.webdriver.support.ui import WebDriverWait \n",
    "from selenium.webdriver.support import expected_conditions as EC \n",
    "from selenium.webdriver.common.keys import Keys \n",
    "from selenium.webdriver.common.desired_capabilities import DesiredCapabilities\n",
    "from selenium.webdriver.common.by import By \n",
    "from selenium.webdriver.support.select import Select\n",
    "from selenium.webdriver.common.action_chains import ActionChains\n",
    "import time \n",
    "import sys\n",
    "import easyocr\n",
    "capa = DesiredCapabilities.CHROME\n",
    "capa[\"pageLoadStrategy\"] = \"normal\"\n",
    "driver = webdriver.Chrome('/home/srijithreddy/Desktop//srijith reddy/chromedriver')\n",
    "driver.get(\"https://aims.iith.ac.in/aims/\")\n",
    "inputElement=driver.find_element_by_id(\"uid\")\n",
    "inputElement.send_keys('Enter your roll number')\n",
    "inputElement2=driver.find_element_by_id(\"pswrd\")\n",
    "inputElement2.send_keys('Enter your password here')\n",
    "#identify image to be captured\n",
    "l = driver.find_element_by_xpath('//*[@id=\"appCaptchaLoginImg\"]')\n",
    "#write file\n",
    "logoSRC = l.get_attribute(\"src\");\n",
    "text=(logoSRC[len(logoSRC)-5:len(logoSRC)])\n",
    "inputElement3=driver.find_element_by_id(\"captcha\")\n",
    "inputElement3.send_keys(text)\n",
    "button = driver.find_element_by_id(\"login\")\n",
    "button.click()\n",
    "WebDriverWait(driver, 600).until(EC.presence_of_element_located((By.ID, \"captchaDiv\")))\n",
    "with open('Logo7.png', 'wb') as file:\n",
    "#identify image to be captured\n",
    "   l2 = driver.find_element_by_xpath('//*[@id=\"appCaptchaLoginImg\"]')\n",
    "#write file\n",
    "   file.write(l2.screenshot_as_png)\n",
    "\n",
    "reader = easyocr.Reader(['en']) # need to run only once to load model into memory\n",
    "result = reader.readtext('Logo7.png' ,detail = 0)\n",
    "values = ','.join(str(v) for v in result)\n",
    "result=values.replace(\" \", \"\")\n",
    "print(result)\n",
    "inputElement4 = driver.find_element_by_xpath('//*[@id=\"captcha\"]')\n",
    "inputElement4.send_keys(str(result))\n",
    "\n",
    "button1 = driver.find_element_by_id(\"submit\")\n",
    "button1.click()"
   ]
  },
  {
   "cell_type": "code",
   "execution_count": 4,
   "id": "looking-vacuum",
   "metadata": {},
   "outputs": [],
   "source": [
    "import emoji\n",
    "from selenium import webdriver \n",
    "from selenium.webdriver.support.ui import WebDriverWait \n",
    "from selenium.webdriver.support import expected_conditions as EC \n",
    "from selenium.webdriver.common.keys import Keys \n",
    "from selenium.webdriver.common.by import By \n",
    "import time \n",
    "import sys\n",
    "# Replace below path with the absolute path of the \\\n",
    "#chromedriver in your computer\n",
    "for i in range(2):\n",
    "\tdriver = webdriver.Chrome('/home/srijithreddy/Desktop//srijith reddy/chromedriver')\n",
    "\tdriver.get(\"https://www.youtube.com/watch?v=PX3xzLJsdkI\")\n",
    "\t#driver.set_window_size(4, 4) # to set window size\n",
    "\telement = driver.find_element_by_xpath(\"//button[@class='ytp-large-play-button ytp-button']\")\n",
    "\telement.click()\t\t\n",
    "\telement2 = driver.find_element_by_xpath(\"//button[@class='ytp-mute-button ytp-button']\")# to mute\n",
    "\telement2.click()\t\t\n",
    "\ttime.sleep(10)\n",
    "# time.sleep()\n",
    "\tdriver.close()\n"
   ]
  },
  {
   "cell_type": "code",
   "execution_count": null,
   "id": "scheduled-governor",
   "metadata": {},
   "outputs": [],
   "source": []
  }
 ],
 "metadata": {
  "kernelspec": {
   "display_name": "Python 3",
   "language": "python",
   "name": "python3"
  },
  "language_info": {
   "codemirror_mode": {
    "name": "ipython",
    "version": 3
   },
   "file_extension": ".py",
   "mimetype": "text/x-python",
   "name": "python",
   "nbconvert_exporter": "python",
   "pygments_lexer": "ipython3",
   "version": "3.8.5"
  }
 },
 "nbformat": 4,
 "nbformat_minor": 5
}
