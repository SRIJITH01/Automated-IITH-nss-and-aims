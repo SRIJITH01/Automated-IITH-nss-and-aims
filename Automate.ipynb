{
 "cells": [
  {
   "cell_type": "markdown",
   "id": "institutional-healthcare",
   "metadata": {
    "scrolled": true
   },
   "source": [
    "> The first cell will be able to print hours of all your class matesand the second cell can send forspecific roll number "
   ]
  },
  {
   "cell_type": "code",
   "execution_count": 17,
   "id": "polyphonic-microwave",
   "metadata": {
    "scrolled": true
   },
   "outputs": [
    {
     "name": "stdout",
     "output_type": "stream",
     "text": [
      "Roll no:  EE19BTECH11000\n",
      "!!! Invalid Input!!! Try again\n",
      "Roll no:  EE19BTECH11001\n",
      "NSS - IIT Hyderabad\n",
      "Your Contribution to NSS\n",
      "69\n",
      "Roll no:  EE19BTECH11002\n",
      "NSS - IIT Hyderabad\n",
      "Your Contribution to NSS\n",
      "42\n",
      "Roll no:  EE19BTECH11003\n",
      "NSS - IIT Hyderabad\n",
      "Your Contribution to NSS\n",
      "\n",
      "9\n",
      "Roll no:  EE19BTECH11004\n",
      "NSS - IIT Hyderabad\n",
      "Your Contribution to NSS\n",
      "18\n"
     ]
    }
   ],
   "source": [
    "from selenium import webdriver \n",
    "from selenium.webdriver.support.ui import WebDriverWait \n",
    "from selenium.webdriver.support import expected_conditions as EC \n",
    "from selenium.webdriver.common.keys import Keys \n",
    "from selenium.webdriver.common.by import By \n",
    "from selenium.webdriver.common.desired_capabilities import DesiredCapabilities\n",
    "from selenium.webdriver.support.select import Select\n",
    "import time \n",
    "import sys\n",
    "\n",
    "# Replace below path with the absolute path of the \\\n",
    "#chromedriver in your computer\n",
    "for i in range(5):\n",
    "    capa = DesiredCapabilities.CHROME\n",
    "    capa[\"pageLoadStrategy\"] = \"eager\"\n",
    "    driver = webdriver.Chrome('/home/srijithreddy/Desktop//srijith reddy/chromedriver')\n",
    "    driver.get(\"https://nss.iith.ac.in/hours_portal/\")\n",
    "    driver.execute_script(\"window.stop();\")\n",
    "    options = WebDriverWait(driver,5).until(EC.presence_of_all_elements_located((By.CSS_SELECTOR, '[name=\"Year\"] option')))\n",
    "    driver.execute_script(\"window.stop();\")\n",
    "    importer = 9\n",
    "    mySelect = Select(driver.find_element_by_css_selector('[name=\"Year\"]'))\n",
    "    mySelect.select_by_index(importer)\n",
    "    selected = mySelect.first_selected_option\n",
    "    inputElement = driver.find_element_by_id(\"name\")\n",
    "    if i < 10:\n",
    "        inputElement.send_keys('EE19BTECH1100'+str(i))\t\n",
    "        print('Roll no: ','EE19BTECH1100'+str(i) )\n",
    "    else:\n",
    "        inputElement.send_keys('EE19BTECH110'+str(i))\t\n",
    "        print('Roll no: ','EE19BTECH110'+str(i) )\n",
    "    button = driver.find_element_by_class_name(\"button\")\n",
    "# clicking on the button\n",
    "    button.click()\n",
    "    a = driver.find_elements_by_xpath('//*[@id=\"wrapper\"]/div/center[1]')\n",
    "    print(a[0].text)\n",
    "    if a[0].text == '!!! Invalid Input!!! Try again':\n",
    "        driver.close()\n",
    "    else:\n",
    "        m = driver.find_elements_by_xpath('//*[@id=\"wrapper\"]/div/table[2]')\n",
    "        s=m[0].text\n",
    "        hrs=s[len(s)-2:len(s)]\n",
    "        print(s[len(s)-2:len(s)]) \n",
    "        driver.close()"
   ]
  },
  {
   "cell_type": "code",
   "execution_count": 13,
   "id": "continent-partner",
   "metadata": {},
   "outputs": [
    {
     "name": "stdout",
     "output_type": "stream",
     "text": [
      "Enter your Year: 2020\n",
      "0\n",
      "Enter your Roll no: EP20BTECH11020\n",
      "Your total Hours:  \n",
      "6\n"
     ]
    }
   ],
   "source": [
    "# Replace below path with the absolute path of the \\\n",
    "#chromedriver in your computer\n",
    "from selenium import webdriver \n",
    "from selenium.webdriver.support.ui import WebDriverWait \n",
    "from selenium.webdriver.support import expected_conditions as EC \n",
    "from selenium.webdriver.common.keys import Keys \n",
    "from selenium.webdriver.common.by import By \n",
    "from selenium.webdriver.common.desired_capabilities import DesiredCapabilities\n",
    "from selenium.webdriver.support.select import Select\n",
    "import time \n",
    "import sys\n",
    "im = input(\"Enter your Year: \")\n",
    "intext = input(\"Enter your Roll no: \")\n",
    "capa = DesiredCapabilities.CHROME\n",
    "capa[\"pageLoadStrategy\"] = \"eager\"\n",
    "driver = webdriver.Chrome('/home/srijithreddy/Desktop//srijith reddy/chromedriver')\n",
    "driver.get(\"https://nss.iith.ac.in/hours_portal/\")\n",
    "options = WebDriverWait(driver,10).until(EC.presence_of_all_elements_located((By.CSS_SELECTOR, '[name=\"Year\"] option')))\n",
    "driver.execute_script(\"window.stop();\")\n",
    "if str(im) == '2020': \n",
    "    importer = 10\n",
    "else:\n",
    "    importer = im[3]\n",
    "mySelect = Select(driver.find_element_by_css_selector('[name=\"Year\"]'))\n",
    "mySelect.select_by_index(importer)\n",
    "selected = mySelect.first_selected_option\n",
    "inputElement = driver.find_element_by_id(\"name\")\n",
    "inputElement.send_keys(intext)\t\t\t\n",
    "button = driver.find_element_by_class_name(\"button\")\n",
    "# clicking on the button\n",
    "button.click()\n",
    "WebDriverWait(driver,5)\n",
    "a = driver.find_elements_by_xpath('//*[@id=\"wrapper\"]/div/center[1]')\n",
    "if a[0].text == '!!! Invalid Input!!! Try again':\n",
    "    print('Your not in NSS')\n",
    "    driver.close()\n",
    "else:\n",
    "    m = driver.find_elements_by_xpath('//*[@id=\"wrapper\"]/div/table[2]')\n",
    "    s=m[0].text\n",
    "    hrs=s[len(s)-2:len(s)]\n",
    "    print(\"Your total Hours: \",s[len(s)-2:len(s)]) \n",
    "    driver.close()"
   ]
  },
  {
   "cell_type": "markdown",
   "id": "comic-fitting",
   "metadata": {},
   "source": [
    "> The below code is for aims and it is not so accurate at second captcha "
   ]
  },
  {
   "cell_type": "code",
   "execution_count": 11,
   "id": "brazilian-colors",
   "metadata": {},
   "outputs": [
    {
     "name": "stdout",
     "output_type": "stream",
     "text": [
      "Enter your Roll no: EE19BTECH11041\n",
      "Enter your password: JBSGKBSHSJ\n"
     ]
    },
    {
     "ename": "NoSuchWindowException",
     "evalue": "Message: no such window: target window already closed\nfrom unknown error: web view not found\n  (Session info: chrome=89.0.4389.114)\n",
     "output_type": "error",
     "traceback": [
      "\u001b[0;31m---------------------------------------------------------------------------\u001b[0m",
      "\u001b[0;31mNoSuchWindowException\u001b[0m                     Traceback (most recent call last)",
      "\u001b[0;32m<ipython-input-11-3fa76a87fd19>\u001b[0m in \u001b[0;36m<module>\u001b[0;34m\u001b[0m\n\u001b[1;32m     29\u001b[0m \u001b[0mbutton\u001b[0m \u001b[0;34m=\u001b[0m \u001b[0mdriver\u001b[0m\u001b[0;34m.\u001b[0m\u001b[0mfind_element_by_id\u001b[0m\u001b[0;34m(\u001b[0m\u001b[0;34m\"login\"\u001b[0m\u001b[0;34m)\u001b[0m\u001b[0;34m\u001b[0m\u001b[0;34m\u001b[0m\u001b[0m\n\u001b[1;32m     30\u001b[0m \u001b[0mbutton\u001b[0m\u001b[0;34m.\u001b[0m\u001b[0mclick\u001b[0m\u001b[0;34m(\u001b[0m\u001b[0;34m)\u001b[0m\u001b[0;34m\u001b[0m\u001b[0;34m\u001b[0m\u001b[0m\n\u001b[0;32m---> 31\u001b[0;31m \u001b[0mWebDriverWait\u001b[0m\u001b[0;34m(\u001b[0m\u001b[0mdriver\u001b[0m\u001b[0;34m,\u001b[0m \u001b[0;36m600\u001b[0m\u001b[0;34m)\u001b[0m\u001b[0;34m.\u001b[0m\u001b[0muntil\u001b[0m\u001b[0;34m(\u001b[0m\u001b[0mEC\u001b[0m\u001b[0;34m.\u001b[0m\u001b[0mpresence_of_element_located\u001b[0m\u001b[0;34m(\u001b[0m\u001b[0;34m(\u001b[0m\u001b[0mBy\u001b[0m\u001b[0;34m.\u001b[0m\u001b[0mID\u001b[0m\u001b[0;34m,\u001b[0m \u001b[0;34m\"captchaDiv\"\u001b[0m\u001b[0;34m)\u001b[0m\u001b[0;34m)\u001b[0m\u001b[0;34m)\u001b[0m\u001b[0;34m\u001b[0m\u001b[0;34m\u001b[0m\u001b[0m\n\u001b[0m\u001b[1;32m     32\u001b[0m \u001b[0;32mwith\u001b[0m \u001b[0mopen\u001b[0m\u001b[0;34m(\u001b[0m\u001b[0;34m'Logo7.png'\u001b[0m\u001b[0;34m,\u001b[0m \u001b[0;34m'wb'\u001b[0m\u001b[0;34m)\u001b[0m \u001b[0;32mas\u001b[0m \u001b[0mfile\u001b[0m\u001b[0;34m:\u001b[0m\u001b[0;34m\u001b[0m\u001b[0;34m\u001b[0m\u001b[0m\n\u001b[1;32m     33\u001b[0m \u001b[0;31m#identify image to be captured\u001b[0m\u001b[0;34m\u001b[0m\u001b[0;34m\u001b[0m\u001b[0;34m\u001b[0m\u001b[0m\n",
      "\u001b[0;32m~/.local/lib/python3.8/site-packages/selenium/webdriver/support/wait.py\u001b[0m in \u001b[0;36muntil\u001b[0;34m(self, method, message)\u001b[0m\n\u001b[1;32m     69\u001b[0m         \u001b[0;32mwhile\u001b[0m \u001b[0;32mTrue\u001b[0m\u001b[0;34m:\u001b[0m\u001b[0;34m\u001b[0m\u001b[0;34m\u001b[0m\u001b[0m\n\u001b[1;32m     70\u001b[0m             \u001b[0;32mtry\u001b[0m\u001b[0;34m:\u001b[0m\u001b[0;34m\u001b[0m\u001b[0;34m\u001b[0m\u001b[0m\n\u001b[0;32m---> 71\u001b[0;31m                 \u001b[0mvalue\u001b[0m \u001b[0;34m=\u001b[0m \u001b[0mmethod\u001b[0m\u001b[0;34m(\u001b[0m\u001b[0mself\u001b[0m\u001b[0;34m.\u001b[0m\u001b[0m_driver\u001b[0m\u001b[0;34m)\u001b[0m\u001b[0;34m\u001b[0m\u001b[0;34m\u001b[0m\u001b[0m\n\u001b[0m\u001b[1;32m     72\u001b[0m                 \u001b[0;32mif\u001b[0m \u001b[0mvalue\u001b[0m\u001b[0;34m:\u001b[0m\u001b[0;34m\u001b[0m\u001b[0;34m\u001b[0m\u001b[0m\n\u001b[1;32m     73\u001b[0m                     \u001b[0;32mreturn\u001b[0m \u001b[0mvalue\u001b[0m\u001b[0;34m\u001b[0m\u001b[0;34m\u001b[0m\u001b[0m\n",
      "\u001b[0;32m~/.local/lib/python3.8/site-packages/selenium/webdriver/support/expected_conditions.py\u001b[0m in \u001b[0;36m__call__\u001b[0;34m(self, driver)\u001b[0m\n\u001b[1;32m     61\u001b[0m \u001b[0;34m\u001b[0m\u001b[0m\n\u001b[1;32m     62\u001b[0m     \u001b[0;32mdef\u001b[0m \u001b[0m__call__\u001b[0m\u001b[0;34m(\u001b[0m\u001b[0mself\u001b[0m\u001b[0;34m,\u001b[0m \u001b[0mdriver\u001b[0m\u001b[0;34m)\u001b[0m\u001b[0;34m:\u001b[0m\u001b[0;34m\u001b[0m\u001b[0;34m\u001b[0m\u001b[0m\n\u001b[0;32m---> 63\u001b[0;31m         \u001b[0;32mreturn\u001b[0m \u001b[0m_find_element\u001b[0m\u001b[0;34m(\u001b[0m\u001b[0mdriver\u001b[0m\u001b[0;34m,\u001b[0m \u001b[0mself\u001b[0m\u001b[0;34m.\u001b[0m\u001b[0mlocator\u001b[0m\u001b[0;34m)\u001b[0m\u001b[0;34m\u001b[0m\u001b[0;34m\u001b[0m\u001b[0m\n\u001b[0m\u001b[1;32m     64\u001b[0m \u001b[0;34m\u001b[0m\u001b[0m\n\u001b[1;32m     65\u001b[0m \u001b[0;34m\u001b[0m\u001b[0m\n",
      "\u001b[0;32m~/.local/lib/python3.8/site-packages/selenium/webdriver/support/expected_conditions.py\u001b[0m in \u001b[0;36m_find_element\u001b[0;34m(driver, by)\u001b[0m\n\u001b[1;32m    400\u001b[0m         \u001b[0;32mraise\u001b[0m \u001b[0me\u001b[0m\u001b[0;34m\u001b[0m\u001b[0;34m\u001b[0m\u001b[0m\n\u001b[1;32m    401\u001b[0m     \u001b[0;32mexcept\u001b[0m \u001b[0mWebDriverException\u001b[0m \u001b[0;32mas\u001b[0m \u001b[0me\u001b[0m\u001b[0;34m:\u001b[0m\u001b[0;34m\u001b[0m\u001b[0;34m\u001b[0m\u001b[0m\n\u001b[0;32m--> 402\u001b[0;31m         \u001b[0;32mraise\u001b[0m \u001b[0me\u001b[0m\u001b[0;34m\u001b[0m\u001b[0;34m\u001b[0m\u001b[0m\n\u001b[0m\u001b[1;32m    403\u001b[0m \u001b[0;34m\u001b[0m\u001b[0m\n\u001b[1;32m    404\u001b[0m \u001b[0;34m\u001b[0m\u001b[0m\n",
      "\u001b[0;32m~/.local/lib/python3.8/site-packages/selenium/webdriver/support/expected_conditions.py\u001b[0m in \u001b[0;36m_find_element\u001b[0;34m(driver, by)\u001b[0m\n\u001b[1;32m    396\u001b[0m     if thrown.\"\"\"\n\u001b[1;32m    397\u001b[0m     \u001b[0;32mtry\u001b[0m\u001b[0;34m:\u001b[0m\u001b[0;34m\u001b[0m\u001b[0;34m\u001b[0m\u001b[0m\n\u001b[0;32m--> 398\u001b[0;31m         \u001b[0;32mreturn\u001b[0m \u001b[0mdriver\u001b[0m\u001b[0;34m.\u001b[0m\u001b[0mfind_element\u001b[0m\u001b[0;34m(\u001b[0m\u001b[0;34m*\u001b[0m\u001b[0mby\u001b[0m\u001b[0;34m)\u001b[0m\u001b[0;34m\u001b[0m\u001b[0;34m\u001b[0m\u001b[0m\n\u001b[0m\u001b[1;32m    399\u001b[0m     \u001b[0;32mexcept\u001b[0m \u001b[0mNoSuchElementException\u001b[0m \u001b[0;32mas\u001b[0m \u001b[0me\u001b[0m\u001b[0;34m:\u001b[0m\u001b[0;34m\u001b[0m\u001b[0;34m\u001b[0m\u001b[0m\n\u001b[1;32m    400\u001b[0m         \u001b[0;32mraise\u001b[0m \u001b[0me\u001b[0m\u001b[0;34m\u001b[0m\u001b[0;34m\u001b[0m\u001b[0m\n",
      "\u001b[0;32m~/.local/lib/python3.8/site-packages/selenium/webdriver/remote/webdriver.py\u001b[0m in \u001b[0;36mfind_element\u001b[0;34m(self, by, value)\u001b[0m\n\u001b[1;32m    851\u001b[0m                 \u001b[0mby\u001b[0m \u001b[0;34m=\u001b[0m \u001b[0mBy\u001b[0m\u001b[0;34m.\u001b[0m\u001b[0mCSS_SELECTOR\u001b[0m\u001b[0;34m\u001b[0m\u001b[0;34m\u001b[0m\u001b[0m\n\u001b[1;32m    852\u001b[0m                 \u001b[0mvalue\u001b[0m \u001b[0;34m=\u001b[0m \u001b[0;34m'[name=\"%s\"]'\u001b[0m \u001b[0;34m%\u001b[0m \u001b[0mvalue\u001b[0m\u001b[0;34m\u001b[0m\u001b[0;34m\u001b[0m\u001b[0m\n\u001b[0;32m--> 853\u001b[0;31m         return self.execute(Command.FIND_ELEMENT, {\n\u001b[0m\u001b[1;32m    854\u001b[0m             \u001b[0;34m'using'\u001b[0m\u001b[0;34m:\u001b[0m \u001b[0mby\u001b[0m\u001b[0;34m,\u001b[0m\u001b[0;34m\u001b[0m\u001b[0;34m\u001b[0m\u001b[0m\n\u001b[1;32m    855\u001b[0m             'value': value})['value']\n",
      "\u001b[0;32m~/.local/lib/python3.8/site-packages/selenium/webdriver/remote/webdriver.py\u001b[0m in \u001b[0;36mexecute\u001b[0;34m(self, driver_command, params)\u001b[0m\n\u001b[1;32m    306\u001b[0m         \u001b[0mresponse\u001b[0m \u001b[0;34m=\u001b[0m \u001b[0mself\u001b[0m\u001b[0;34m.\u001b[0m\u001b[0mcommand_executor\u001b[0m\u001b[0;34m.\u001b[0m\u001b[0mexecute\u001b[0m\u001b[0;34m(\u001b[0m\u001b[0mdriver_command\u001b[0m\u001b[0;34m,\u001b[0m \u001b[0mparams\u001b[0m\u001b[0;34m)\u001b[0m\u001b[0;34m\u001b[0m\u001b[0;34m\u001b[0m\u001b[0m\n\u001b[1;32m    307\u001b[0m         \u001b[0;32mif\u001b[0m \u001b[0mresponse\u001b[0m\u001b[0;34m:\u001b[0m\u001b[0;34m\u001b[0m\u001b[0;34m\u001b[0m\u001b[0m\n\u001b[0;32m--> 308\u001b[0;31m             \u001b[0mself\u001b[0m\u001b[0;34m.\u001b[0m\u001b[0merror_handler\u001b[0m\u001b[0;34m.\u001b[0m\u001b[0mcheck_response\u001b[0m\u001b[0;34m(\u001b[0m\u001b[0mresponse\u001b[0m\u001b[0;34m)\u001b[0m\u001b[0;34m\u001b[0m\u001b[0;34m\u001b[0m\u001b[0m\n\u001b[0m\u001b[1;32m    309\u001b[0m             response['value'] = self._unwrap_value(\n\u001b[1;32m    310\u001b[0m                 response.get('value', None))\n",
      "\u001b[0;32m~/.local/lib/python3.8/site-packages/selenium/webdriver/remote/errorhandler.py\u001b[0m in \u001b[0;36mcheck_response\u001b[0;34m(self, response)\u001b[0m\n\u001b[1;32m    192\u001b[0m         \u001b[0;32melif\u001b[0m \u001b[0mexception_class\u001b[0m \u001b[0;34m==\u001b[0m \u001b[0mUnexpectedAlertPresentException\u001b[0m \u001b[0;32mand\u001b[0m \u001b[0;34m'alert'\u001b[0m \u001b[0;32min\u001b[0m \u001b[0mvalue\u001b[0m\u001b[0;34m:\u001b[0m\u001b[0;34m\u001b[0m\u001b[0;34m\u001b[0m\u001b[0m\n\u001b[1;32m    193\u001b[0m             \u001b[0;32mraise\u001b[0m \u001b[0mexception_class\u001b[0m\u001b[0;34m(\u001b[0m\u001b[0mmessage\u001b[0m\u001b[0;34m,\u001b[0m \u001b[0mscreen\u001b[0m\u001b[0;34m,\u001b[0m \u001b[0mstacktrace\u001b[0m\u001b[0;34m,\u001b[0m \u001b[0mvalue\u001b[0m\u001b[0;34m[\u001b[0m\u001b[0;34m'alert'\u001b[0m\u001b[0;34m]\u001b[0m\u001b[0;34m.\u001b[0m\u001b[0mget\u001b[0m\u001b[0;34m(\u001b[0m\u001b[0;34m'text'\u001b[0m\u001b[0;34m)\u001b[0m\u001b[0;34m)\u001b[0m\u001b[0;34m\u001b[0m\u001b[0;34m\u001b[0m\u001b[0m\n\u001b[0;32m--> 194\u001b[0;31m         \u001b[0;32mraise\u001b[0m \u001b[0mexception_class\u001b[0m\u001b[0;34m(\u001b[0m\u001b[0mmessage\u001b[0m\u001b[0;34m,\u001b[0m \u001b[0mscreen\u001b[0m\u001b[0;34m,\u001b[0m \u001b[0mstacktrace\u001b[0m\u001b[0;34m)\u001b[0m\u001b[0;34m\u001b[0m\u001b[0;34m\u001b[0m\u001b[0m\n\u001b[0m\u001b[1;32m    195\u001b[0m \u001b[0;34m\u001b[0m\u001b[0m\n\u001b[1;32m    196\u001b[0m     \u001b[0;32mdef\u001b[0m \u001b[0m_value_or_default\u001b[0m\u001b[0;34m(\u001b[0m\u001b[0mself\u001b[0m\u001b[0;34m,\u001b[0m \u001b[0mobj\u001b[0m\u001b[0;34m,\u001b[0m \u001b[0mkey\u001b[0m\u001b[0;34m,\u001b[0m \u001b[0mdefault\u001b[0m\u001b[0;34m)\u001b[0m\u001b[0;34m:\u001b[0m\u001b[0;34m\u001b[0m\u001b[0;34m\u001b[0m\u001b[0m\n",
      "\u001b[0;31mNoSuchWindowException\u001b[0m: Message: no such window: target window already closed\nfrom unknown error: web view not found\n  (Session info: chrome=89.0.4389.114)\n"
     ]
    }
   ],
   "source": [
    "from selenium import webdriver \n",
    "from selenium.webdriver.support.ui import WebDriverWait \n",
    "from selenium.webdriver.support import expected_conditions as EC \n",
    "from selenium.webdriver.common.keys import Keys \n",
    "from selenium.webdriver.common.desired_capabilities import DesiredCapabilities\n",
    "from selenium.webdriver.common.by import By \n",
    "from selenium.webdriver.support.select import Select\n",
    "from selenium.webdriver.common.action_chains import ActionChains\n",
    "import time \n",
    "import sys\n",
    "import easyocr\n",
    "ima = input(\"Enter your Roll no: \")\n",
    "inm = input(\"Enter your password: \")\n",
    "capa = DesiredCapabilities.CHROME\n",
    "capa[\"pageLoadStrategy\"] = \"normal\"\n",
    "driver = webdriver.Chrome('/home/srijithreddy/Desktop//srijith reddy/chromedriver')\n",
    "driver.get(\"https://aims.iith.ac.in/aims/\")\n",
    "inputElement=driver.find_element_by_id(\"uid\")\n",
    "inputElement.send_keys(ima)\n",
    "inputElement2=driver.find_element_by_id(\"pswrd\")\n",
    "inputElement2.send_keys(inm)\n",
    "#identify image to be captured\n",
    "l = driver.find_element_by_xpath('//*[@id=\"appCaptchaLoginImg\"]')\n",
    "#write file\n",
    "logoSRC = l.get_attribute(\"src\");\n",
    "text=(logoSRC[len(logoSRC)-5:len(logoSRC)])\n",
    "inputElement3=driver.find_element_by_id(\"captcha\")\n",
    "inputElement3.send_keys(text)\n",
    "button = driver.find_element_by_id(\"login\")\n",
    "button.click()\n",
    "WebDriverWait(driver, 600).until(EC.presence_of_element_located((By.ID, \"captchaDiv\")))\n",
    "with open('Logo7.png', 'wb') as file:\n",
    "#identify image to be captured\n",
    "   l2 = driver.find_element_by_xpath('//*[@id=\"appCaptchaLoginImg\"]')\n",
    "#write file\n",
    "   file.write(l2.screenshot_as_png)\n",
    "\n",
    "reader = easyocr.Reader(['en']) # need to run only once to load model into memory\n",
    "result = reader.readtext('Logo7.png' ,detail = 0)\n",
    "values = ','.join(str(v) for v in result)\n",
    "result=values.replace(\" \", \"\")\n",
    "print(result)\n",
    "inputElement4 = driver.find_element_by_xpath('//*[@id=\"captcha\"]')\n",
    "inputElement4.send_keys(str(result))\n",
    "\n",
    "button1 = driver.find_element_by_id(\"submit\")\n",
    "button1.click()"
   ]
  },
  {
   "cell_type": "code",
   "execution_count": 4,
   "id": "looking-vacuum",
   "metadata": {},
   "outputs": [],
   "source": [
    "import emoji\n",
    "from selenium import webdriver \n",
    "from selenium.webdriver.support.ui import WebDriverWait \n",
    "from selenium.webdriver.support import expected_conditions as EC \n",
    "from selenium.webdriver.common.keys import Keys \n",
    "from selenium.webdriver.common.by import By \n",
    "import time \n",
    "import sys\n",
    "# Replace below path with the absolute path of the \\\n",
    "#chromedriver in your computer\n",
    "for i in range(2):\n",
    "\tdriver = webdriver.Chrome('/home/srijithreddy/Desktop//srijith reddy/chromedriver')\n",
    "\tdriver.get(\"https://www.youtube.com/watch?v=PX3xzLJsdkI\")\n",
    "\t#driver.set_window_size(4, 4) # to set window size\n",
    "\telement = driver.find_element_by_xpath(\"//button[@class='ytp-large-play-button ytp-button']\")\n",
    "\telement.click()\t\t\n",
    "\telement2 = driver.find_element_by_xpath(\"//button[@class='ytp-mute-button ytp-button']\")# to mute\n",
    "\telement2.click()\t\t\n",
    "\ttime.sleep(10)\n",
    "# time.sleep()\n",
    "\tdriver.close()\n"
   ]
  },
  {
   "cell_type": "markdown",
   "id": "mobile-myanmar",
   "metadata": {},
   "source": [
    "> This is to send a message to your friend if there is a wicket using whatsapp and cricbuzz"
   ]
  },
  {
   "cell_type": "code",
   "execution_count": 3,
   "id": "scheduled-governor",
   "metadata": {},
   "outputs": [
    {
     "name": "stdout",
     "output_type": "stream",
     "text": [
      "Enter cricbuzz link: https://www.cricbuzz.com/live-cricket-scores/35617/csk-vs-dc-2nd-match-indian-premier-league-2021\n"
     ]
    }
   ],
   "source": [
    "from selenium import webdriver \n",
    "from selenium.webdriver.support.ui import WebDriverWait \n",
    "from selenium.webdriver.support import expected_conditions as EC \n",
    "from selenium.webdriver.common.keys import Keys \n",
    "from selenium.webdriver.common.by import By \n",
    "from selenium.webdriver.support.select import Select\n",
    "from selenium.webdriver.common.action_chains import ActionChains\n",
    "from selenium.webdriver.common.desired_capabilities import DesiredCapabilities\n",
    "import time \n",
    "import sys\n",
    "import numpy as np\n",
    "import os\n",
    "import subprocess\n",
    "\n",
    "def sendmessage(message):\n",
    "    subprocess.Popen(['notify-send', message])\n",
    "    return\n",
    "capa = DesiredCapabilities.CHROME\n",
    "capa[\"pageLoadStrategy\"] = \"normal\"\n",
    "driver = webdriver.Chrome('/home/srijithreddy/Desktop//srijith reddy/chromedriver')\n",
    "drivera = webdriver.Chrome('/home/srijithreddy/Desktop//srijith reddy/chromedriver')\n",
    "driver.get(\"https://www.cricbuzz.com/live-cricket-scores/35622/rr-vs-pbks-4th-match-indian-premier-league-2021\")\n",
    "drivera.get(\"https://web.whatsapp.com/\")\n",
    "target = '\"Sohith Gupta\"'\n",
    "# Replace the below string with your own message\n",
    "string = \"Arey wicket ra!!!\"\n",
    "x_arg = '//span[contains(@title,' + target + ')]'\n",
    "group_title = WebDriverWait(drivera, 100).until(EC.presence_of_element_located((\n",
    "By.XPATH, x_arg)))\n",
    "group_title.click()\n",
    "l=1000\n",
    "over=[]\n",
    "total=[]\n",
    "total2=[]\n",
    "wickets=[]\n",
    "over2=[]\n",
    "for i in range(l):\n",
    "    time.sleep(3)\n",
    "    options = WebDriverWait(driver,10).until(EC.presence_of_all_elements_located((By.ID, 'matchCenter')))\n",
    "    score = driver.find_element_by_xpath('//*[@id=\"matchCenter\"]/div[3]/div[2]/div[1]/div[1]/div[1]/div[1]/h2').text\n",
    "    over+= [score]\n",
    "    if over[i]!=over[i-1] and over[i]!='':\n",
    "        total+=[score]\n",
    "        total2+=[score[score.index(' ')+1:score.index('(')-3]]\n",
    "        wickets+=[score[score.index('(')-2:score.index('(')-1]]\n",
    "        over2+=[score[score.index('(')+1:len(score)-1]]\n",
    "        print('total is',total2)\n",
    "        print('wickets',wickets)\n",
    "        print('overs',over2)\n",
    "    if  len(wickets)>=2 and wickets[len(wickets)-1]!= wickets[len(wickets)-2]:\n",
    "        sendmessage(\"wicket ra score chusko \"+score)\n",
    "        WebDriverWait(drivera,10).until(EC.presence_of_all_elements_located((By.ID, 'main')))\n",
    "        input_box = drivera.find_element_by_xpath(\"/html/body/div/div[1]/div[1]/div[4]/div[1]/footer/div[1]/div[2]/div/div[2]\")\n",
    "        input_box.send_keys(string + Keys.ENTER)\n",
    "        time.sleep(1)\n",
    "    driver.refresh()\n",
    "    \n"
   ]
  },
  {
   "cell_type": "code",
   "execution_count": null,
   "id": "hungarian-water",
   "metadata": {},
   "outputs": [],
   "source": []
  }
 ],
 "metadata": {
  "kernelspec": {
   "display_name": "Python 3",
   "language": "python",
   "name": "python3"
  },
  "language_info": {
   "codemirror_mode": {
    "name": "ipython",
    "version": 3
   },
   "file_extension": ".py",
   "mimetype": "text/x-python",
   "name": "python",
   "nbconvert_exporter": "python",
   "pygments_lexer": "ipython3",
   "version": "3.8.5"
  }
 },
 "nbformat": 4,
 "nbformat_minor": 5
}
